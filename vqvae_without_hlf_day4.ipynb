{
 "cells": [
  {
   "cell_type": "code",
   "execution_count": 16,
   "id": "1b3cff7b",
   "metadata": {
    "execution": {
     "iopub.execute_input": "2023-04-01T19:41:33.948086Z",
     "iopub.status.busy": "2023-04-01T19:41:33.947326Z",
     "iopub.status.idle": "2023-04-01T19:41:35.120065Z",
     "shell.execute_reply": "2023-04-01T19:41:35.118989Z",
     "shell.execute_reply.started": "2023-04-01T19:41:33.948043Z"
    }
   },
   "outputs": [],
   "source": [
    "import torch\n",
    "import torchvision\n",
    "from torch import nn\n",
    "import torch.optim as optim\n",
    "from torch.utils.data import DataLoader\n",
    "from torchvision import transforms, datasets\n",
    "import torch.nn.functional as F\n",
    "\n",
    "from pprint import pprint\n",
    "import numpy as np\n",
    "import torchinfo\n",
    "from matplotlib import pyplot as plt\n",
    "import time\n",
    "import cv2\n",
    "from PIL import Image\n",
    "import time\n",
    "from tqdm import tqdm\n",
    "import torchinfo \n",
    "from pprint import pprint\n",
    "from einops.layers.torch import Rearrange\n",
    "import pywt"
   ]
  },
  {
   "cell_type": "markdown",
   "id": "c0d86002",
   "metadata": {},
   "source": [
    "# this is same for all the code\n",
    "\n",
    "# Dataset class implementation was done by Anshul EE20BTECH1104\n",
    "# Residual block was written by Dhruv Srikanth EE20BTECH11014\n",
    "# various functions like mse, mae, ssim were written by Dhruv Srikanth and Anshul Gupta\n",
    "# Basic architecture of the model was taken from internet and then later modified by Utkarsh Doshi E20BTECH11052\n",
    "\n",
    "https://github.com/AntixK/PyTorch-VAE/blob/master/models/vq_vae.py"
   ]
  },
  {
   "cell_type": "markdown",
   "id": "32fd875f",
   "metadata": {},
   "source": [
    "# idea and code modified by Utkarsh Doshi EE20BTECH11052"
   ]
  },
  {
   "cell_type": "code",
   "execution_count": 17,
   "id": "c38d9269",
   "metadata": {},
   "outputs": [],
   "source": [
    "from cnns_vit import CoAtNet"
   ]
  },
  {
   "cell_type": "code",
   "execution_count": 18,
   "id": "331cc12c",
   "metadata": {
    "execution": {
     "iopub.execute_input": "2023-04-01T19:41:35.122751Z",
     "iopub.status.busy": "2023-04-01T19:41:35.122165Z",
     "iopub.status.idle": "2023-04-01T19:41:44.652097Z",
     "shell.execute_reply": "2023-04-01T19:41:44.651018Z",
     "shell.execute_reply.started": "2023-04-01T19:41:35.122710Z"
    }
   },
   "outputs": [],
   "source": [
    "channels_img = 3\n",
    "batch_size = 8\n",
    "data_dir = r'C:/Users/utkar/Desktop/ivp/FFHQ64x64/'\n",
    "#data_dir_new = r'C:/Users/utkar/Desktop/ML/Dataset/Celeb_dataset/500_img'\n",
    "\n",
    "transform = transforms.Compose([\n",
    "    transforms.ToTensor(),\n",
    "    transforms.CenterCrop((64, 64)),\n",
    "    #transforms.Normalize(())\n",
    "    ])\n",
    "\n",
    "dataset = datasets.ImageFolder(root=data_dir, transform=transform)\n",
    "\n",
    "train_loader = DataLoader(\n",
    "    dataset,\n",
    "    batch_size=batch_size,\n",
    "    pin_memory=True,\n",
    "    shuffle=True\n",
    ")\n",
    "\n",
    "device = 'cuda' #torch.device(\"cuda:0\" if torch.cuda.is_available() else \"cpu\")"
   ]
  },
  {
   "cell_type": "code",
   "execution_count": 19,
   "id": "d8973f89",
   "metadata": {
    "execution": {
     "iopub.execute_input": "2023-04-01T19:41:44.659715Z",
     "iopub.status.busy": "2023-04-01T19:41:44.657327Z",
     "iopub.status.idle": "2023-04-01T19:41:45.696221Z",
     "shell.execute_reply": "2023-04-01T19:41:45.694955Z",
     "shell.execute_reply.started": "2023-04-01T19:41:44.659672Z"
    }
   },
   "outputs": [
    {
     "name": "stdout",
     "output_type": "stream",
     "text": [
      "Sat Apr 29 23:54:55 2023       \n",
      "+-----------------------------------------------------------------------------+\n",
      "| NVIDIA-SMI 528.52       Driver Version: 528.52       CUDA Version: 12.0     |\n",
      "|-------------------------------+----------------------+----------------------+\n",
      "| GPU  Name            TCC/WDDM | Bus-Id        Disp.A | Volatile Uncorr. ECC |\n",
      "| Fan  Temp  Perf  Pwr:Usage/Cap|         Memory-Usage | GPU-Util  Compute M. |\n",
      "|                               |                      |               MIG M. |\n",
      "|===============================+======================+======================|\n",
      "|   0  NVIDIA GeForce ... WDDM  | 00000000:01:00.0 Off |                  N/A |\n",
      "| N/A   43C    P8    15W /  95W |   5989MiB /  6144MiB |      0%      Default |\n",
      "|                               |                      |                  N/A |\n",
      "+-------------------------------+----------------------+----------------------+\n",
      "                                                                               \n",
      "+-----------------------------------------------------------------------------+\n",
      "| Processes:                                                                  |\n",
      "|  GPU   GI   CI        PID   Type   Process name                  GPU Memory |\n",
      "|        ID   ID                                                   Usage      |\n",
      "|=============================================================================|\n",
      "|    0   N/A  N/A      2080      C   ...da3\\envs\\torch\\python.exe    N/A      |\n",
      "|    0   N/A  N/A      4520      C   ...da3\\envs\\torch\\python.exe    N/A      |\n",
      "|    0   N/A  N/A      4824    C+G   ...ser\\Application\\brave.exe    N/A      |\n",
      "|    0   N/A  N/A     21472      C   ...da3\\envs\\torch\\python.exe    N/A      |\n",
      "|    0   N/A  N/A     24092      C   ...da3\\envs\\torch\\python.exe    N/A      |\n",
      "+-----------------------------------------------------------------------------+\n"
     ]
    }
   ],
   "source": [
    "!nvidia-smi"
   ]
  },
  {
   "cell_type": "markdown",
   "id": "5b41838c",
   "metadata": {
    "execution": {
     "iopub.execute_input": "2023-04-01T19:41:45.700207Z",
     "iopub.status.busy": "2023-04-01T19:41:45.699782Z",
     "iopub.status.idle": "2023-04-01T19:41:47.334804Z",
     "shell.execute_reply": "2023-04-01T19:41:47.332704Z",
     "shell.execute_reply.started": "2023-04-01T19:41:45.700161Z"
    }
   },
   "source": [
    "# blurring was just to check how the output might look since blurring takes away the high leve feqtures\n"
   ]
  },
  {
   "cell_type": "code",
   "execution_count": 21,
   "id": "ee838886",
   "metadata": {
    "execution": {
     "iopub.execute_input": "2023-04-01T19:42:18.742191Z",
     "iopub.status.busy": "2023-04-01T19:42:18.741436Z",
     "iopub.status.idle": "2023-04-01T19:42:18.890919Z",
     "shell.execute_reply": "2023-04-01T19:42:18.889598Z",
     "shell.execute_reply.started": "2023-04-01T19:42:18.742152Z"
    }
   },
   "outputs": [
    {
     "data": {
      "image/png": "[encoded data removed]",
      "text/plain": [
       "<Figure size 640x480 with 1 Axes>"
      ]
     },
     "metadata": {},
     "output_type": "display_data"
    },
    {
     "data": {
      "image/png": "[encoded data removed]",
      "text/plain": [
       "<Figure size 640x480 with 1 Axes>"
      ]
     },
     "metadata": {},
     "output_type": "display_data"
    }
   ],
   "source": [
    "\n",
    "img = dataset[60000][0].permute(1, 2, 0)\n",
    "plt.axis('off')\n",
    "plt.imshow(img)\n",
    "plt.show()\n",
    "\n",
    "img_blur = torch.tensor(cv2.blur(np.array(img), (2, 2)))\n",
    "plt.axis('off')\n",
    "plt.imshow(img_blur)\n",
    "plt.show()\n"
   ]
  },
  {
   "cell_type": "code",
   "execution_count": 22,
   "id": "34a83f70",
   "metadata": {
    "execution": {
     "iopub.execute_input": "2023-04-01T19:42:19.387112Z",
     "iopub.status.busy": "2023-04-01T19:42:19.385914Z",
     "iopub.status.idle": "2023-04-01T19:42:19.395113Z",
     "shell.execute_reply": "2023-04-01T19:42:19.393816Z",
     "shell.execute_reply.started": "2023-04-01T19:42:19.387059Z"
    }
   },
   "outputs": [],
   "source": [
    "# residual block\n",
    "class ResidualBlock(nn.Module):\n",
    "    def __init__(self, in_c, out_c):\n",
    "        super(ResidualBlock, self).__init__()\n",
    "        self.ResBlock = nn.Sequential(\n",
    "            nn.Conv2d(in_c, out_c, kernel_size=3, padding=2, dilation=2, bias=False),\n",
    "            nn.ReLU(True),\n",
    "            nn.Conv2d(out_c, out_c, kernel_size=3, padding=1, bias=False),\n",
    "            \n",
    "        )\n",
    "        \n",
    "    def forward(self, x):\n",
    "        return x + self.ResBlock(x)\n",
    "    "
   ]
  },
  {
   "cell_type": "code",
   "execution_count": 23,
   "id": "d0728748",
   "metadata": {},
   "outputs": [
    {
     "name": "stdout",
     "output_type": "stream",
     "text": [
      "====================================================================================================\n",
      "Layer (type:depth-idx)                             Output Shape              Param #\n",
      "====================================================================================================\n",
      "CoAtNet                                            [1, 16, 16, 16]           --\n",
      "├─Sequential: 1-1                                  [1, 16, 16, 16]           --\n",
      "│    └─Transformer: 2-1                            [1, 16, 16, 16]           --\n",
      "│    │    └─Sequential: 3-1                        [1, 16, 16, 16]           24,120\n",
      "│    │    └─Sequential: 3-2                        [1, 16, 16, 16]           2,160\n",
      "│    └─Transformer: 2-2                            [1, 16, 16, 16]           --\n",
      "│    │    └─Sequential: 3-3                        [1, 16, 16, 16]           24,120\n",
      "│    │    └─Sequential: 3-4                        [1, 16, 16, 16]           2,160\n",
      "====================================================================================================\n",
      "Total params: 52,560\n",
      "Trainable params: 52,560\n",
      "Non-trainable params: 0\n",
      "Total mult-adds (M): 0.04\n",
      "====================================================================================================\n",
      "Input size (MB): 0.02\n",
      "Forward/backward pass size (MB): 3.67\n",
      "Params size (MB): 0.15\n",
      "Estimated Total Size (MB): 3.84\n",
      "====================================================================================================\n"
     ]
    }
   ],
   "source": [
    "c = 16\n",
    "img_size = (16, 16)\n",
    "cnnvit = CoAtNet(img_size, c, 2)\n",
    "pprint(torchinfo.summary(cnnvit, (1, c, img_size[0], img_size[1])))"
   ]
  },
  {
   "cell_type": "code",
   "execution_count": 24,
   "id": "7796d904",
   "metadata": {
    "execution": {
     "iopub.execute_input": "2023-04-01T19:42:19.913706Z",
     "iopub.status.busy": "2023-04-01T19:42:19.912626Z",
     "iopub.status.idle": "2023-04-01T19:42:19.926274Z",
     "shell.execute_reply": "2023-04-01T19:42:19.925186Z",
     "shell.execute_reply.started": "2023-04-01T19:42:19.913655Z"
    }
   },
   "outputs": [],
   "source": [
    "class VectorQuantizer(nn.Module):\n",
    "    def __init__(self, num_embeddings, embedding_dim, beta=0.25):\n",
    "        super(VectorQuantizer, self).__init__()\n",
    "        self.K = num_embeddings\n",
    "        self.D = embedding_dim\n",
    "        self.beta = beta\n",
    "        \n",
    "        self.embedding = nn.Embedding(self.K, self.D)\n",
    "        self.embedding.weight.data.uniform_(-1 / self.K, 1 / self.K)  # weight initializing\n",
    "        \n",
    "    def forward(self, latents):\n",
    "        latents = latents.permute(0, 2, 3, 1).contiguous()  # taking dimension (channel) to right end\n",
    "        latents_shape = latents.shape\n",
    "        flat_latents = latents.view(-1, self.D)\n",
    "        \n",
    "        # computing L2 distance\n",
    "        dist = torch.sum(flat_latents ** 2, dim=1, keepdim=True) + torch.sum(self.embedding.weight ** 2, dim=1) - \\\n",
    "               2 * torch.matmul(flat_latents, self.embedding.weight.t())  # [BHW x K]\n",
    "            \n",
    "        # Get the encoding that has the min distance\n",
    "        encoding_inds = torch.argmin(dist, dim=1).unsqueeze(1)  # [BHW, 1]\n",
    "        \n",
    "        # Convert to one-hot encodings\n",
    "        device = latents.device\n",
    "        encoding_one_hot = torch.zeros(encoding_inds.size(0), self.K, device=device)\n",
    "        encoding_one_hot.scatter_(1, encoding_inds, 1)  # [BHW x K]\n",
    "\n",
    "        # Quantize the latents\n",
    "        quantized_latents = torch.matmul(encoding_one_hot, self.embedding.weight)  # [BHW, D]\n",
    "        quantized_latents = quantized_latents.view(latents_shape)  # [B x H x W x D]\n",
    "        \n",
    "        # Compute the VQ Losses\n",
    "        commitment_loss = F.mse_loss(quantized_latents.detach(), latents)\n",
    "        embedding_loss = F.mse_loss(quantized_latents, latents.detach())\n",
    "        \n",
    "        vq_loss = commitment_loss * self.beta + embedding_loss\n",
    "\n",
    "        # Add the residue back to the latents\n",
    "        quantized_latents = latents + (quantized_latents - latents).detach()\n",
    "\n",
    "        return quantized_latents.permute(0, 3, 1, 2).contiguous(), vq_loss  # [B x D x H x W]"
   ]
  },
  {
   "cell_type": "code",
   "execution_count": null,
   "id": "802b4fd6",
   "metadata": {},
   "outputs": [],
   "source": []
  },
  {
   "cell_type": "code",
   "execution_count": 25,
   "id": "c7ef6faf",
   "metadata": {
    "execution": {
     "iopub.execute_input": "2023-04-01T19:42:20.302928Z",
     "iopub.status.busy": "2023-04-01T19:42:20.302465Z",
     "iopub.status.idle": "2023-04-01T19:42:20.321310Z",
     "shell.execute_reply": "2023-04-01T19:42:20.320129Z",
     "shell.execute_reply.started": "2023-04-01T19:42:20.302891Z"
    }
   },
   "outputs": [],
   "source": [
    "# VQ-VAE\n",
    "class VQVAE(nn.Module):\n",
    "    def __init__(self, in_c, embedding_dim, num_embeddings, hidden_dims=None, beta=0.25, img_size=64):\n",
    "        super(VQVAE, self).__init__()\n",
    "        \n",
    "        self.embedding_dim = embedding_dim\n",
    "        self.num_embedding = num_embeddings\n",
    "        self.img_size = img_size\n",
    "        self.beta = beta\n",
    "        \n",
    "        modules = []\n",
    "        if hidden_dims is None:\n",
    "            hidden_dims = [128, 256]\n",
    "            \n",
    "        i_size = img_size//2\n",
    "        \n",
    "        for h_dim in hidden_dims:\n",
    "            #print(in_c, h_dim, i_size)\n",
    "            modules.append(nn.Sequential(\n",
    "                nn.Conv2d(in_c, out_channels=h_dim, kernel_size=4, stride=2, padding=1),\n",
    "                nn.LeakyReLU(True),\n",
    "                CoAtNet((i_size, i_size), h_dim, 2),\n",
    "                nn.LeakyReLU(True),\n",
    "            ))\n",
    "            in_c = h_dim\n",
    "            i_size = i_size//2\n",
    "        \n",
    "        i_size = i_size*2\n",
    "        #print(in_c, i_size)\n",
    "        \n",
    "        modules.append(\n",
    "            nn.Sequential(\n",
    "                nn.Conv2d(in_c, in_c, kernel_size=3, stride=1, padding=1),\n",
    "                nn.LeakyReLU(),\n",
    "                nn.Conv2d(in_c, in_c, kernel_size=3, stride=1, dilation=2, padding=2),\n",
    "                nn.LeakyReLU(),\n",
    "                CoAtNet((i_size, i_size), in_c, 2),\n",
    "                nn.LeakyReLU(True),\n",
    "            )\n",
    "        )\n",
    "        \n",
    "        for _ in range(6):\n",
    "            modules.append(ResidualBlock(in_c, in_c))   # see for relu\n",
    "        modules.append(nn.LeakyReLU())\n",
    "        \n",
    "        modules.append(\n",
    "            nn.Sequential(\n",
    "                nn.Conv2d(in_c, embedding_dim, kernel_size=1, stride=1),\n",
    "                nn.LeakyReLU()\n",
    "            )\n",
    "        )\n",
    "        \n",
    "        self.encoder = nn.Sequential(*modules)\n",
    "        \n",
    "        self.vq_layer = VectorQuantizer(num_embeddings, embedding_dim, self.beta)\n",
    "        \n",
    "        # Build Decoder\n",
    "        modules = []\n",
    "        modules.append(\n",
    "            nn.Sequential(\n",
    "                nn.Conv2d(embedding_dim, hidden_dims[-1], kernel_size=3, stride=1, padding=1),\n",
    "                nn.LeakyReLU()\n",
    "            )\n",
    "        )\n",
    "        \n",
    "        \n",
    "        for _ in range(6):\n",
    "            modules.append(ResidualBlock(hidden_dims[-1], hidden_dims[-1]))\n",
    "            \n",
    "        modules.append(nn.LeakyReLU())\n",
    "        hidden_dims.reverse()\n",
    "        \n",
    "        for i in range(len(hidden_dims)-1):\n",
    "            i_size = img_size//2\n",
    "            modules.append(\n",
    "                nn.Sequential(\n",
    "                    nn.ConvTranspose2d(hidden_dims[i], hidden_dims[i+1], kernel_size=4, stride=2, padding=1),\n",
    "                    nn.LeakyReLU(),\n",
    "                    CoAtNet((i_size, i_size), hidden_dims[i+1], 2),\n",
    "                    nn.LeakyReLU(True),\n",
    "                )\n",
    "            )\n",
    "            \n",
    "        modules.append(\n",
    "            nn.Sequential(\n",
    "                # CoAtNet((32, 32), hidden_dims[-1], 2),\n",
    "                # nn.LeakyReLU(True),\n",
    "                nn.ConvTranspose2d(hidden_dims[-1], out_channels=3, kernel_size=4, stride=2, padding=1),\n",
    "                nn.Tanh()\n",
    "            )\n",
    "        )\n",
    "        \n",
    "        self.decoder = nn.Sequential(*modules)\n",
    "         \n",
    "    def encode(self, x):\n",
    "        x = self.encoder(x)\n",
    "        return x\n",
    "    \n",
    "    def decode(self, z):\n",
    "        z = self.decoder(z)\n",
    "        return z\n",
    "    \n",
    "    def forward(self, x):\n",
    "        encodings = self.encoder(x)\n",
    "        #print(encodings.shape)\n",
    "        quantized_vec, vq_loss = self.vq_layer(encodings)\n",
    "        return [self.decoder(quantized_vec), x, vq_loss]\n",
    "    \n",
    "    def loss_f(self, *args, **kwargs):\n",
    "        recons = args[0]\n",
    "        inputs = args[1]\n",
    "        vq_loss = args[2]\n",
    "        \n",
    "        recons_loss = F.mse_loss(recons, inputs)\n",
    "        \n",
    "        loss = recons_loss + vq_loss\n",
    "        return loss, recons_loss, vq_loss\n",
    "    \n",
    "    def sample(self, num_samples, current_device):\n",
    "        raise Warning('VQVAE sampler is not implemented.')\n",
    "\n",
    "    def generate(self, x):\n",
    "        return self.forward(x)[0]\n"
   ]
  },
  {
   "cell_type": "code",
   "execution_count": 26,
   "id": "be6907c0",
   "metadata": {
    "execution": {
     "iopub.execute_input": "2023-04-01T19:42:20.613977Z",
     "iopub.status.busy": "2023-04-01T19:42:20.612723Z",
     "iopub.status.idle": "2023-04-01T19:42:20.802505Z",
     "shell.execute_reply": "2023-04-01T19:42:20.801456Z",
     "shell.execute_reply.started": "2023-04-01T19:42:20.613925Z"
    }
   },
   "outputs": [],
   "source": [
    "# in_c, embedding_dim, num_embeddings, hidden_dims, beta=0.25, img_size=64,\n",
    "vqvae = VQVAE(3, 128, 512).to(device)"
   ]
  },
  {
   "cell_type": "code",
   "execution_count": 27,
   "id": "d1cc05f4",
   "metadata": {
    "execution": {
     "iopub.execute_input": "2023-04-01T19:42:21.293228Z",
     "iopub.status.busy": "2023-04-01T19:42:21.292506Z",
     "iopub.status.idle": "2023-04-01T19:42:21.297804Z",
     "shell.execute_reply": "2023-04-01T19:42:21.296697Z",
     "shell.execute_reply.started": "2023-04-01T19:42:21.293189Z"
    }
   },
   "outputs": [],
   "source": [
    "# x = torch.rand((1, 3, 128, 128)).to('cuda')\n",
    "# print(x.shape)\n",
    "# encode_vec = vqvae.encoder(x)\n",
    "# vqvae.vq_layer(encode_vec)[0].shape"
   ]
  },
  {
   "cell_type": "code",
   "execution_count": 28,
   "id": "ab33846f",
   "metadata": {
    "execution": {
     "iopub.execute_input": "2023-04-01T19:42:21.725479Z",
     "iopub.status.busy": "2023-04-01T19:42:21.725092Z",
     "iopub.status.idle": "2023-04-01T19:42:22.889888Z",
     "shell.execute_reply": "2023-04-01T19:42:22.888594Z",
     "shell.execute_reply.started": "2023-04-01T19:42:21.725447Z"
    }
   },
   "outputs": [
    {
     "name": "stdout",
     "output_type": "stream",
     "text": [
      "===================================================================================================================\n",
      "Layer (type:depth-idx)                                            Output Shape              Param #\n",
      "===================================================================================================================\n",
      "VQVAE                                                             [1, 3, 64, 64]            --\n",
      "├─Sequential: 1-1                                                 [1, 128, 16, 16]          --\n",
      "│    └─Sequential: 2-1                                            [1, 128, 32, 32]          --\n",
      "│    │    └─Conv2d: 3-1                                           [1, 128, 32, 32]          6,272\n",
      "│    │    └─LeakyReLU: 3-2                                        [1, 128, 32, 32]          --\n",
      "│    │    └─CoAtNet: 3-3                                          [1, 128, 32, 32]          590,352\n",
      "│    │    └─LeakyReLU: 3-4                                        [1, 128, 32, 32]          --\n",
      "│    └─Sequential: 2-2                                            [1, 256, 16, 16]          --\n",
      "│    │    └─Conv2d: 3-5                                           [1, 256, 16, 16]          524,544\n",
      "│    │    └─LeakyReLU: 3-6                                        [1, 256, 16, 16]          --\n",
      "│    │    └─CoAtNet: 3-7                                          [1, 256, 16, 16]          1,593,360\n",
      "│    │    └─LeakyReLU: 3-8                                        [1, 256, 16, 16]          --\n",
      "│    └─Sequential: 2-3                                            [1, 256, 16, 16]          --\n",
      "│    │    └─Conv2d: 3-9                                           [1, 256, 16, 16]          590,080\n",
      "│    │    └─LeakyReLU: 3-10                                       [1, 256, 16, 16]          --\n",
      "│    │    └─Conv2d: 3-11                                          [1, 256, 16, 16]          590,080\n",
      "│    │    └─LeakyReLU: 3-12                                       [1, 256, 16, 16]          --\n",
      "│    │    └─CoAtNet: 3-13                                         [1, 256, 16, 16]          1,593,360\n",
      "│    │    └─LeakyReLU: 3-14                                       [1, 256, 16, 16]          --\n",
      "│    └─ResidualBlock: 2-4                                         [1, 256, 16, 16]          --\n",
      "│    │    └─Sequential: 3-15                                      [1, 256, 16, 16]          1,179,648\n",
      "│    └─ResidualBlock: 2-5                                         [1, 256, 16, 16]          --\n",
      "│    │    └─Sequential: 3-16                                      [1, 256, 16, 16]          1,179,648\n",
      "│    └─ResidualBlock: 2-6                                         [1, 256, 16, 16]          --\n",
      "│    │    └─Sequential: 3-17                                      [1, 256, 16, 16]          1,179,648\n",
      "│    └─ResidualBlock: 2-7                                         [1, 256, 16, 16]          --\n",
      "│    │    └─Sequential: 3-18                                      [1, 256, 16, 16]          1,179,648\n",
      "│    └─ResidualBlock: 2-8                                         [1, 256, 16, 16]          --\n",
      "│    │    └─Sequential: 3-19                                      [1, 256, 16, 16]          1,179,648\n",
      "│    └─ResidualBlock: 2-9                                         [1, 256, 16, 16]          --\n",
      "│    │    └─Sequential: 3-20                                      [1, 256, 16, 16]          1,179,648\n",
      "│    └─LeakyReLU: 2-10                                            [1, 256, 16, 16]          --\n",
      "│    └─Sequential: 2-11                                           [1, 128, 16, 16]          --\n",
      "│    │    └─Conv2d: 3-21                                          [1, 128, 16, 16]          32,896\n",
      "│    │    └─LeakyReLU: 3-22                                       [1, 128, 16, 16]          --\n",
      "├─VectorQuantizer: 1-2                                            [1, 128, 16, 16]          65,536\n",
      "├─Sequential: 1-3                                                 [1, 3, 64, 64]            --\n",
      "│    └─Sequential: 2-12                                           [1, 256, 16, 16]          --\n",
      "│    │    └─Conv2d: 3-23                                          [1, 256, 16, 16]          295,168\n",
      "│    │    └─LeakyReLU: 3-24                                       [1, 256, 16, 16]          --\n",
      "│    └─ResidualBlock: 2-13                                        [1, 256, 16, 16]          --\n",
      "│    │    └─Sequential: 3-25                                      [1, 256, 16, 16]          1,179,648\n",
      "│    └─ResidualBlock: 2-14                                        [1, 256, 16, 16]          --\n",
      "│    │    └─Sequential: 3-26                                      [1, 256, 16, 16]          1,179,648\n",
      "│    └─ResidualBlock: 2-15                                        [1, 256, 16, 16]          --\n",
      "│    │    └─Sequential: 3-27                                      [1, 256, 16, 16]          1,179,648\n",
      "│    └─ResidualBlock: 2-16                                        [1, 256, 16, 16]          --\n",
      "│    │    └─Sequential: 3-28                                      [1, 256, 16, 16]          1,179,648\n",
      "│    └─ResidualBlock: 2-17                                        [1, 256, 16, 16]          --\n",
      "│    │    └─Sequential: 3-29                                      [1, 256, 16, 16]          1,179,648\n",
      "│    └─ResidualBlock: 2-18                                        [1, 256, 16, 16]          --\n",
      "│    │    └─Sequential: 3-30                                      [1, 256, 16, 16]          1,179,648\n",
      "│    └─LeakyReLU: 2-19                                            [1, 256, 16, 16]          --\n",
      "│    └─Sequential: 2-20                                           [1, 128, 32, 32]          --\n",
      "│    │    └─ConvTranspose2d: 3-31                                 [1, 128, 32, 32]          524,416\n",
      "│    │    └─LeakyReLU: 3-32                                       [1, 128, 32, 32]          --\n",
      "│    │    └─CoAtNet: 3-33                                         [1, 128, 32, 32]          590,352\n",
      "│    │    └─LeakyReLU: 3-34                                       [1, 128, 32, 32]          --\n",
      "│    └─Sequential: 2-21                                           [1, 3, 64, 64]            --\n",
      "│    │    └─ConvTranspose2d: 3-35                                 [1, 3, 64, 64]            6,147\n",
      "│    │    └─Tanh: 3-36                                            [1, 3, 64, 64]            --\n",
      "===================================================================================================================\n",
      "Total params: 21,158,339\n",
      "Trainable params: 21,158,339\n",
      "Non-trainable params: 0\n",
      "Total mult-adds (G): 4.72\n",
      "===================================================================================================================\n",
      "Input size (MB): 0.05\n",
      "Forward/backward pass size (MB): 98.93\n",
      "Params size (MB): 83.74\n",
      "Estimated Total Size (MB): 182.72\n",
      "===================================================================================================================\n"
     ]
    }
   ],
   "source": [
    "pprint(torchinfo.summary(vqvae, (1, 3, 64, 64)))"
   ]
  },
  {
   "cell_type": "code",
   "execution_count": 29,
   "id": "305d0cca",
   "metadata": {
    "execution": {
     "iopub.execute_input": "2023-04-01T20:05:42.279113Z",
     "iopub.status.busy": "2023-04-01T20:05:42.278726Z",
     "iopub.status.idle": "2023-04-01T20:05:42.285890Z",
     "shell.execute_reply": "2023-04-01T20:05:42.284063Z",
     "shell.execute_reply.started": "2023-04-01T20:05:42.279079Z"
    }
   },
   "outputs": [],
   "source": [
    "#import torch.optim.lr_scheduler as lr_scheduler\n",
    "\n",
    "num_training_updates = 15000\n",
    "\n",
    "# num_hiddens = 128\n",
    "# num_residual_hiddens = 32\n",
    "# num_residual_layers = 2\n",
    "# \n",
    "# embedding_dim = 64\n",
    "# num_embeddings = 512\n",
    "# commitment_cost = 0.25\n",
    "decay = 0.99\n",
    "\n",
    "learning_rate = 1e-4\n",
    "optimizer = optim.Adam(vqvae.parameters(), lr=learning_rate)\n",
    "#scheduler = lr_scheduler.StepLR(optimizer, step_size=5, gamma=0.5)\n",
    "\n",
    "criterion1 = nn.MSELoss()\n",
    "# criterion2 = nn.MSELoss()"
   ]
  },
  {
   "cell_type": "code",
   "execution_count": 30,
   "id": "1cd91c95",
   "metadata": {},
   "outputs": [
    {
     "name": "stdout",
     "output_type": "stream",
     "text": [
      "(tensor(0.0065), tensor(0.0509))\n",
      "tensor(0.7826)\n"
     ]
    },
    {
     "data": {
      "image/png": "[encoded data removed]",
      "text/plain": [
       "<Figure size 640x480 with 1 Axes>"
      ]
     },
     "metadata": {},
     "output_type": "display_data"
    }
   ],
   "source": [
    "# def dwt_batch(images, wavelet=\"haar\", device=\"cuda\"):\n",
    "#     with torch.no_grad():\n",
    "#         batch_size, channels, height, width = images.shape\n",
    "#         coeffs_list = []\n",
    "#         for i in range(batch_size):\n",
    "#             img = images[i].unsqueeze(0).to(device)\n",
    "#             coeffs = pywt.dwt2(img.cpu().numpy(), wavelet)\n",
    "#             cA, (cH, cV, cD) = coeffs\n",
    "#             cA = torch.from_numpy(cA).float().unsqueeze(0).to(device)\n",
    "#             cH = torch.from_numpy(cH).float().unsqueeze(0).to(device)\n",
    "#             cV = torch.from_numpy(cV).float().unsqueeze(0).to(device)\n",
    "#             cD = torch.from_numpy(cD).float().unsqueeze(0).to(device)\n",
    "#             coeffs_list.append((cA, cH, cV, cD))\n",
    "#         cA_batch = torch.cat([x[0] for x in coeffs_list], dim=0)\n",
    "#         cH_batch = torch.cat([x[1] for x in coeffs_list], dim=0)\n",
    "#         cV_batch = torch.cat([x[2] for x in coeffs_list], dim=0)\n",
    "#         cD_batch = torch.cat([x[3] for x in coeffs_list], dim=0)\n",
    "#     return cH_batch, cV_batch, cD_batch\n",
    "p = r\"C:\\Users\\utkar\\Desktop\\ivp\\models tried\\day-4\\vqvae_with_hlf_day4_epoch8.pt\"\n",
    "vqvae = torch.load(p)\n",
    "\n",
    "\n",
    "from torchmetrics import MeanSquaredError\n",
    "from torchmetrics import MeanAbsoluteError\n",
    "\n",
    "def mse(img1, img2):\n",
    "    target = img1\n",
    "    preds = img2\n",
    "    mean_squared_error = MeanSquaredError()\n",
    "    mean_s = mean_squared_error(preds, target)\n",
    "    mean_absolute_error = MeanAbsoluteError()\n",
    "    mean_abs = mean_absolute_error(preds, target)\n",
    "    return mean_s, mean_abs\n",
    "    \n",
    "from torchmetrics import StructuralSimilarityIndexMeasure\n",
    "import torch\n",
    "def ssim(img1, img2):\n",
    "    target = img1\n",
    "    preds = img2\n",
    "    ssim = StructuralSimilarityIndexMeasure(data_range=1.0)\n",
    "    return ssim(preds, target)\n",
    "    \n",
    "def display_func():\n",
    "    with torch.no_grad():\n",
    "        n = 10000\n",
    "        img = torch.unsqueeze(train_loader.dataset[n][0], 0).to('cuda')\n",
    "        out = vqvae(img)[0]\n",
    "        \n",
    "        print(mse(img.cpu(), out.cpu()))\n",
    "        print(ssim(img.cpu(), out.cpu()))\n",
    "        pic = np.transpose(np.concatenate((img.cpu(), out.cpu()), 3)[0], (1, 2, 0))\n",
    "        plt.imshow(pic)\n",
    "        plt.show()\n",
    "\n",
    "display_func()"
   ]
  },
  {
   "cell_type": "code",
   "execution_count": 28,
   "id": "56ed58b4",
   "metadata": {
    "execution": {
     "iopub.execute_input": "2023-04-01T20:05:43.076261Z",
     "iopub.status.busy": "2023-04-01T20:05:43.075524Z",
     "iopub.status.idle": "2023-04-01T20:05:43.088383Z",
     "shell.execute_reply": "2023-04-01T20:05:43.087337Z",
     "shell.execute_reply.started": "2023-04-01T20:05:43.076221Z"
    }
   },
   "outputs": [],
   "source": [
    "\n",
    "\n",
    "def train_vqvae(model, train_loader, optimizer, criterion1, device, epochs=10):\n",
    "    model.train()\n",
    "    \n",
    "    train_loss = []\n",
    "    recon_loss = []\n",
    "    vq_loss = []\n",
    "    \n",
    "    for epoch in range(epochs):\n",
    "        epoch_train_loss = 0\n",
    "        epoch_recon_loss = 0\n",
    "        epoch_vq_loss = 0\n",
    "        epoch_hlf_loss = 0\n",
    "        progress_bar = tqdm(train_loader, desc=f\"Epoch {epoch+1}/{epochs}\")\n",
    "        for batch_idx, (data, _) in enumerate(progress_bar):\n",
    "            data = data.to(device)\n",
    "\n",
    "            optimizer.zero_grad()\n",
    "\n",
    "            outputs = model(data)\n",
    "            \n",
    "            #input_hlf = dwt_batch(data)\n",
    "            #output_hlf = dwt_batch(outputs[0])\n",
    "            \n",
    "            # hlf_loss = criterion2((output_hlf[0]+output_hlf[1]+output_hlf[2])/3 ,  (input_hlf[0]+input_hlf[1]+input_hlf[2])/3)\n",
    "            sum_loss, recon_loss_batch, vq_loss_batch = model.loss_f(*outputs)\n",
    "            \n",
    "            loss = sum_loss #+ hlf_loss\n",
    "\n",
    "            loss.backward()\n",
    "            optimizer.step()\n",
    "\n",
    "            #epoch_hlf_loss += hlf_loss.item()\n",
    "            epoch_train_loss += loss.item()\n",
    "            epoch_recon_loss += recon_loss_batch.item()\n",
    "            epoch_vq_loss += vq_loss_batch.item()\n",
    "\n",
    "            progress_bar.set_postfix({\n",
    "                \"Train Loss\": epoch_train_loss / (batch_idx + 1),\n",
    "                \"Recon Loss\": epoch_recon_loss / (batch_idx + 1),\n",
    "                \"VQ Loss\": epoch_vq_loss / (batch_idx + 1),\n",
    "            })\n",
    "            \n",
    "        #scheduler.step()\n",
    "        train_loss.append(epoch_train_loss / len(train_loader))\n",
    "        recon_loss.append(epoch_recon_loss / len(train_loader))\n",
    "        vq_loss.append(epoch_vq_loss / len(train_loader))\n",
    "\n",
    "        print(f\"Epoch {epoch+1}: Train Loss: {train_loss[-1]:.4f}, Recon Loss: {recon_loss[-1]:.4f}, VQ Loss: {vq_loss[-1]:.4f}\")\n",
    "        display_func()\n",
    "        if epoch % 5 == 0:\n",
    "            PATH = r'C:/Users/utkar/Desktop/ivp/models tried/day-4/vqvae_with_hlf_day4_epoch' + str(epoch) + '.pt'\n",
    "            torch.save(vqvae, PATH)\n",
    "    return train_loss, recon_loss, vq_loss\n"
   ]
  },
  {
   "cell_type": "code",
   "execution_count": null,
   "id": "94bacef5",
   "metadata": {},
   "outputs": [],
   "source": []
  },
  {
   "cell_type": "code",
   "execution_count": 29,
   "id": "edca801a",
   "metadata": {
    "execution": {
     "iopub.execute_input": "2023-04-01T20:05:47.107895Z",
     "iopub.status.busy": "2023-04-01T20:05:47.107499Z",
     "iopub.status.idle": "2023-04-01T20:11:47.803811Z",
     "shell.execute_reply": "2023-04-01T20:11:47.802064Z",
     "shell.execute_reply.started": "2023-04-01T20:05:47.107861Z"
    }
   },
   "outputs": [
    {
     "name": "stderr",
     "output_type": "stream",
     "text": [
      "Epoch 1/20:  18%|█▊        | 1423/7752 [06:19<28:07,  3.75it/s, Train Loss=0.0153, Recon Loss=0.00582, VQ Loss=0.00943]\n"
     ]
    },
    {
     "ename": "KeyboardInterrupt",
     "evalue": "",
     "output_type": "error",
     "traceback": [
      "\u001b[1;31m---------------------------------------------------------------------------\u001b[0m",
      "\u001b[1;31mKeyboardInterrupt\u001b[0m                         Traceback (most recent call last)",
      "Cell \u001b[1;32mIn[29], line 1\u001b[0m\n\u001b[1;32m----> 1\u001b[0m \u001b[43mtrain_vqvae\u001b[49m\u001b[43m(\u001b[49m\u001b[43mvqvae\u001b[49m\u001b[43m,\u001b[49m\u001b[43m \u001b[49m\u001b[43mtrain_loader\u001b[49m\u001b[43m,\u001b[49m\u001b[43m \u001b[49m\u001b[43moptimizer\u001b[49m\u001b[43m,\u001b[49m\u001b[43m \u001b[49m\u001b[43mcriterion1\u001b[49m\u001b[43m,\u001b[49m\u001b[43m \u001b[49m\u001b[43mdevice\u001b[49m\u001b[43m,\u001b[49m\u001b[43m \u001b[49m\u001b[43mepochs\u001b[49m\u001b[38;5;241;43m=\u001b[39;49m\u001b[38;5;241;43m20\u001b[39;49m\u001b[43m)\u001b[49m\n",
      "Cell \u001b[1;32mIn[28], line 33\u001b[0m, in \u001b[0;36mtrain_vqvae\u001b[1;34m(model, train_loader, optimizer, criterion1, device, epochs)\u001b[0m\n\u001b[0;32m     30\u001b[0m optimizer\u001b[38;5;241m.\u001b[39mstep()\n\u001b[0;32m     32\u001b[0m \u001b[38;5;66;03m#epoch_hlf_loss += hlf_loss.item()\u001b[39;00m\n\u001b[1;32m---> 33\u001b[0m epoch_train_loss \u001b[38;5;241m+\u001b[39m\u001b[38;5;241m=\u001b[39m \u001b[43mloss\u001b[49m\u001b[38;5;241;43m.\u001b[39;49m\u001b[43mitem\u001b[49m\u001b[43m(\u001b[49m\u001b[43m)\u001b[49m\n\u001b[0;32m     34\u001b[0m epoch_recon_loss \u001b[38;5;241m+\u001b[39m\u001b[38;5;241m=\u001b[39m recon_loss_batch\u001b[38;5;241m.\u001b[39mitem()\n\u001b[0;32m     35\u001b[0m epoch_vq_loss \u001b[38;5;241m+\u001b[39m\u001b[38;5;241m=\u001b[39m vq_loss_batch\u001b[38;5;241m.\u001b[39mitem()\n",
      "\u001b[1;31mKeyboardInterrupt\u001b[0m: "
     ]
    }
   ],
   "source": [
    "train_vqvae(vqvae, train_loader, optimizer, criterion1, device, epochs=20) "
   ]
  },
  {
   "cell_type": "code",
   "execution_count": null,
   "id": "6b23e4d1",
   "metadata": {},
   "outputs": [],
   "source": []
  },
  {
   "cell_type": "code",
   "execution_count": 26,
   "id": "2d666013",
   "metadata": {},
   "outputs": [],
   "source": [
    "PATH = r'C:/Users/utkar/Desktop/ivp/models tried/day-4/vqvae_with_hlf_day4_epoch8.pt'\n",
    "vqvae = torch.load(PATH)"
   ]
  },
  {
   "cell_type": "code",
   "execution_count": null,
   "id": "de33ef66",
   "metadata": {},
   "outputs": [],
   "source": []
  },
  {
   "cell_type": "code",
   "execution_count": null,
   "id": "6205a8b4",
   "metadata": {},
   "outputs": [],
   "source": []
  }
 ],
 "metadata": {
  "kernelspec": {
   "display_name": "Python [conda env:torch] *",
   "language": "python",
   "name": "conda-env-torch-py"
  },
  "language_info": {
   "codemirror_mode": {
    "name": "ipython",
    "version": 3
   },
   "file_extension": ".py",
   "mimetype": "text/x-python",
   "name": "python",
   "nbconvert_exporter": "python",
   "pygments_lexer": "ipython3",
   "version": "3.8.5"
  }
 },
 "nbformat": 4,
 "nbformat_minor": 5
}
