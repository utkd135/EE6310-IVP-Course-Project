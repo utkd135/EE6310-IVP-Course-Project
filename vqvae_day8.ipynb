{
 "cells": [
  {
   "cell_type": "code",
   "execution_count": null,
   "id": "1b3cff7b",
   "metadata": {
    "execution": {
     "iopub.execute_input": "2023-04-01T19:41:33.948086Z",
     "iopub.status.busy": "2023-04-01T19:41:33.947326Z",
     "iopub.status.idle": "2023-04-01T19:41:35.120065Z",
     "shell.execute_reply": "2023-04-01T19:41:35.118989Z",
     "shell.execute_reply.started": "2023-04-01T19:41:33.948043Z"
    }
   },
   "outputs": [],
   "source": [
    "import torch\n",
    "import torchvision\n",
    "from torch import nn\n",
    "import torch.optim as optim\n",
    "from torch.utils.data import DataLoader\n",
    "from torchvision import transforms, datasets\n",
    "import torch.nn.functional as F\n",
    "\n",
    "from pprint import pprint\n",
    "import numpy as np\n",
    "import torchinfo\n",
    "from matplotlib import pyplot as plt\n",
    "import time\n",
    "import cv2\n",
    "from PIL import Image\n",
    "import time\n",
    "from tqdm import tqdm\n",
    "import torchinfo \n",
    "from pprint import pprint"
   ]
  },
  {
   "cell_type": "markdown",
   "id": "4b18ea62",
   "metadata": {},
   "source": []
  },
  {
   "cell_type": "markdown",
   "id": "fc3adfba",
   "metadata": {},
   "source": [
    "# this is same for all the code\n",
    "\n",
    "# Dataset class implementation was done by Anshul EE20BTECH1104\n",
    "# Residual block was written by Dhruv Srikanth EE20BTECH11014\n",
    "# various functions like mse, mae, ssim were written by Dhruv Srikanth and Anshul Gupta\n",
    "# Basic architecture of the model was taken from internet and then later modified by Utkarsh Doshi E20BTECH11052\n",
    "\n",
    "https://github.com/AntixK/PyTorch-VAE/blob/master/models/vq_vae.py"
   ]
  },
  {
   "cell_type": "code",
   "execution_count": null,
   "id": "331cc12c",
   "metadata": {
    "execution": {
     "iopub.execute_input": "2023-04-01T19:41:35.122751Z",
     "iopub.status.busy": "2023-04-01T19:41:35.122165Z",
     "iopub.status.idle": "2023-04-01T19:41:44.652097Z",
     "shell.execute_reply": "2023-04-01T19:41:44.651018Z",
     "shell.execute_reply.started": "2023-04-01T19:41:35.122710Z"
    }
   },
   "outputs": [],
   "source": [
    "# Anshul EE20BTECH11004\n",
    "\n",
    "channels_img = 3\n",
    "batch_size = 32\n",
    "data_dir = r'C:/Users/utkar/Desktop/ivp/FFHQ64x64/'\n",
    "#data_dir_new = r'C:/Users/utkar/Desktop/ML/Dataset/Celeb_dataset/500_img'\n",
    "\n",
    "transform = transforms.Compose([\n",
    "    transforms.ToTensor(),\n",
    "    transforms.CenterCrop((64, 64)),\n",
    "    #transforms.Normalize(())\n",
    "    ])\n",
    "\n",
    "dataset = datasets.ImageFolder(root=data_dir, transform=transform)\n",
    "\n",
    "train_loader = DataLoader(\n",
    "    dataset,\n",
    "    batch_size=batch_size,\n",
    "    pin_memory=True,\n",
    "    shuffle=True\n",
    ")\n",
    "\n",
    "device = 'cuda' #torch.device(\"cuda:0\" if torch.cuda.is_available() else \"cpu\")"
   ]
  },
  {
   "cell_type": "code",
   "execution_count": null,
   "id": "d8973f89",
   "metadata": {
    "execution": {
     "iopub.execute_input": "2023-04-01T19:41:44.659715Z",
     "iopub.status.busy": "2023-04-01T19:41:44.657327Z",
     "iopub.status.idle": "2023-04-01T19:41:45.696221Z",
     "shell.execute_reply": "2023-04-01T19:41:45.694955Z",
     "shell.execute_reply.started": "2023-04-01T19:41:44.659672Z"
    }
   },
   "outputs": [],
   "source": [
    "!nvidia-smi"
   ]
  },
  {
   "cell_type": "code",
   "execution_count": null,
   "id": "f381ddac",
   "metadata": {
    "execution": {
     "iopub.execute_input": "2023-04-01T19:41:45.700207Z",
     "iopub.status.busy": "2023-04-01T19:41:45.699782Z",
     "iopub.status.idle": "2023-04-01T19:41:47.334804Z",
     "shell.execute_reply": "2023-04-01T19:41:47.332704Z",
     "shell.execute_reply.started": "2023-04-01T19:41:45.700161Z"
    }
   },
   "outputs": [],
   "source": [
    "\n",
    "## calculate the variance of the dataset\n",
    "#variance = torch.zeros((channels_img, 64, 64))\n",
    "#for images, _ in train_loader:\n",
    "#    variance += np.var(images).mean(dim=0)\n",
    "#variance /= len(train_loader)\n",
    "#\n",
    "#print(f\"Dataset variance: {variance}\")\n",
    "#"
   ]
  },
  {
   "cell_type": "code",
   "execution_count": null,
   "id": "ee838886",
   "metadata": {
    "execution": {
     "iopub.execute_input": "2023-04-01T19:42:18.742191Z",
     "iopub.status.busy": "2023-04-01T19:42:18.741436Z",
     "iopub.status.idle": "2023-04-01T19:42:18.890919Z",
     "shell.execute_reply": "2023-04-01T19:42:18.889598Z",
     "shell.execute_reply.started": "2023-04-01T19:42:18.742152Z"
    }
   },
   "outputs": [],
   "source": [
    "# Anshul EE20BTECH11004\n",
    "\n",
    "img = dataset[10500][0].permute(1, 2, 0)\n",
    "\n",
    "img_blur = torch.tensor(cv2.blur(np.array(img), (2, 2)))\n",
    "\n",
    "img_d = img - img_blur\n",
    "imgs = np.concatenate((img, img_blur, img_d*3), 1)\n",
    "plt.figure(figsize=(15, 5))\n",
    "plt.axis('off')\n",
    "plt.imshow(imgs)\n",
    "plt.show()\n",
    "\n",
    "plt.axis('off')\n",
    "plt.imshow(img_d + img_blur)\n",
    "plt.show()\n",
    "\n",
    "plt.axis('off')\n",
    "plt.imshow(img_d)\n",
    "plt.show()"
   ]
  },
  {
   "cell_type": "code",
   "execution_count": null,
   "id": "4c8810a4",
   "metadata": {},
   "outputs": [],
   "source": [
    "\n",
    "\n",
    "class AttentionBlock(nn.Module):\n",
    "    def __init__(self, in_channels, kernel_size=1):\n",
    "        super(AttentionBlock, self).__init__()\n",
    "        self.query_conv = nn.Conv2d(in_channels, in_channels // 8, kernel_size=kernel_size)\n",
    "        self.key_conv = nn.Conv2d(in_channels, in_channels // 8, kernel_size=kernel_size)\n",
    "        self.value_conv = nn.Conv2d(in_channels, in_channels, kernel_size=kernel_size)\n",
    "        self.gamma = nn.Parameter(torch.zeros(1))\n",
    "        self.softmax = nn.Softmax(dim=-1)\n",
    "\n",
    "\n",
    "    def forward(self, x):\n",
    "        batch_size, channels, height, width = x.size()\n",
    "        \n",
    "        # Project features onto query, key, and value\n",
    "        proj_query = self.query_conv(x).view(batch_size, -1, width * height).permute(0, 2, 1)\n",
    "        proj_key = self.key_conv(x).view(batch_size, -1, width * height)\n",
    "        proj_value = self.value_conv(x).view(batch_size, -1, width * height)\n",
    "        \n",
    "        # Compute attention map\n",
    "        energy = torch.bmm(proj_query, proj_key)\n",
    "        attention = self.softmax(energy)\n",
    "        \n",
    "        # Apply attention to value\n",
    "        out = torch.bmm(proj_value, attention.permute(0, 2, 1))\n",
    "        out = out.view(batch_size, channels, height, width)\n",
    "        \n",
    "        # Apply gamma scaling and add residual connection\n",
    "        out = self.gamma * out + x\n",
    "        \n",
    "        return out\n"
   ]
  },
  {
   "cell_type": "code",
   "execution_count": null,
   "id": "34a83f70",
   "metadata": {
    "execution": {
     "iopub.execute_input": "2023-04-01T19:42:19.387112Z",
     "iopub.status.busy": "2023-04-01T19:42:19.385914Z",
     "iopub.status.idle": "2023-04-01T19:42:19.395113Z",
     "shell.execute_reply": "2023-04-01T19:42:19.393816Z",
     "shell.execute_reply.started": "2023-04-01T19:42:19.387059Z"
    }
   },
   "outputs": [],
   "source": [
    "# Dhruv Srikanth EE20BTECH11041\n",
    "\n",
    "# residual block\n",
    "class ResidualBlock(nn.Module):\n",
    "    def __init__(self, in_c, out_c):\n",
    "        super(ResidualBlock, self).__init__()\n",
    "        self.ResBlock = nn.Sequential(\n",
    "            nn.Conv2d(in_c, out_c, kernel_size=3, padding=1, bias=False),\n",
    "            nn.ReLU(True),\n",
    "            nn.Conv2d(in_c, out_c, kernel_size=3, padding=2, bias=False, dilation=2),\n",
    "            nn.ReLU(True),\n",
    "            nn.Conv2d(out_c, out_c, kernel_size=3, padding=1, bias=False)\n",
    "        )\n",
    "        \n",
    "    def forward(self, x):\n",
    "        return x + self.ResBlock(x)\n",
    "    "
   ]
  },
  {
   "cell_type": "code",
   "execution_count": null,
   "id": "7796d904",
   "metadata": {
    "execution": {
     "iopub.execute_input": "2023-04-01T19:42:19.913706Z",
     "iopub.status.busy": "2023-04-01T19:42:19.912626Z",
     "iopub.status.idle": "2023-04-01T19:42:19.926274Z",
     "shell.execute_reply": "2023-04-01T19:42:19.925186Z",
     "shell.execute_reply.started": "2023-04-01T19:42:19.913655Z"
    }
   },
   "outputs": [],
   "source": [
    "class VectorQuantizer(nn.Module):\n",
    "    def __init__(self, num_embeddings, embedding_dim, beta=0.25):\n",
    "        super(VectorQuantizer, self).__init__()\n",
    "        self.K = num_embeddings\n",
    "        self.D = embedding_dim\n",
    "        self.beta = beta\n",
    "        \n",
    "        self.embedding = nn.Embedding(self.K, self.D)\n",
    "        self.embedding.weight.data.uniform_(-1 / self.K, 1 / self.K)  # weight initializing\n",
    "        \n",
    "    def forward(self, latents):\n",
    "        latents = latents.permute(0, 2, 3, 1).contiguous()  # taking dimension (channel) to right end\n",
    "        latents_shape = latents.shape\n",
    "        flat_latents = latents.view(-1, self.D)\n",
    "        \n",
    "        # computing L2 distance\n",
    "        dist = torch.sum(flat_latents ** 2, dim=1, keepdim=True) + torch.sum(self.embedding.weight ** 2, dim=1) - \\\n",
    "               2 * torch.matmul(flat_latents, self.embedding.weight.t())  # [BHW x K]\n",
    "            \n",
    "        # Get the encoding that has the min distance\n",
    "        encoding_inds = torch.argmin(dist, dim=1).unsqueeze(1)  # [BHW, 1]\n",
    "        \n",
    "        # Convert to one-hot encodings\n",
    "        device = latents.device\n",
    "        encoding_one_hot = torch.zeros(encoding_inds.size(0), self.K, device=device)\n",
    "        encoding_one_hot.scatter_(1, encoding_inds, 1)  # [BHW x K]\n",
    "\n",
    "        # Quantize the latents\n",
    "        quantized_latents = torch.matmul(encoding_one_hot, self.embedding.weight)  # [BHW, D]\n",
    "        quantized_latents = quantized_latents.view(latents_shape)  # [B x H x W x D]\n",
    "        \n",
    "        # Compute the VQ Losses\n",
    "        commitment_loss = F.mse_loss(quantized_latents.detach(), latents)\n",
    "        embedding_loss = F.mse_loss(quantized_latents, latents.detach())\n",
    "        \n",
    "        vq_loss = commitment_loss * self.beta + embedding_loss\n",
    "\n",
    "        # Add the residue back to the latents\n",
    "        quantized_latents = latents + (quantized_latents - latents).detach()\n",
    "\n",
    "        return quantized_latents.permute(0, 3, 1, 2).contiguous(), vq_loss  # [B x D x H x W]"
   ]
  },
  {
   "cell_type": "markdown",
   "id": "9e52e02d",
   "metadata": {},
   "source": [
    "# we changed the model architecture here, iteratively done by Utkarsh Doshi (major), Anshul, dhruv  \n",
    "# idea for decreasing the number of code book vector is what we agreed upon here "
   ]
  },
  {
   "cell_type": "code",
   "execution_count": null,
   "id": "c7ef6faf",
   "metadata": {
    "execution": {
     "iopub.execute_input": "2023-04-01T19:42:20.302928Z",
     "iopub.status.busy": "2023-04-01T19:42:20.302465Z",
     "iopub.status.idle": "2023-04-01T19:42:20.321310Z",
     "shell.execute_reply": "2023-04-01T19:42:20.320129Z",
     "shell.execute_reply.started": "2023-04-01T19:42:20.302891Z"
    }
   },
   "outputs": [],
   "source": [
    "# VQ-VAE\n",
    "class VQVAE(nn.Module):\n",
    "    def __init__(self,\n",
    "                 in_c,\n",
    "                 embedding_dim,\n",
    "                 num_embeddings,\n",
    "                 hidden_dims=None,\n",
    "                 beta=0.25,\n",
    "                 img_size=64,\n",
    "                 ):\n",
    "        super(VQVAE, self).__init__()\n",
    "        \n",
    "        self.embedding_dim = embedding_dim\n",
    "        self.num_embedding = num_embeddings\n",
    "        self.img_size = img_size\n",
    "        self.beta = beta\n",
    "    \n",
    "        modules = []\n",
    "        if hidden_dims is None:\n",
    "            hidden_dims = [128, 256]\n",
    "        \n",
    "        for i, hidden_dim in enumerate(hidden_dims):\n",
    "            modules.append(nn.Sequential(\n",
    "                nn.Conv2d(in_c, out_channels=hidden_dim, kernel_size=3, stride=1, padding=1),\n",
    "                nn.LeakyReLU(),\n",
    "                #AttentionBlock(hidden_dim),\n",
    "                nn.LeakyReLU(),\n",
    "                nn.Conv2d(hidden_dim, out_channels=hidden_dim, kernel_size=3, stride=2, padding=1),\n",
    "                nn.LeakyReLU(),\n",
    "            ))\n",
    "            # modules.append(AttentionBlock(hidden_dim))\n",
    "            in_c = hidden_dim\n",
    "        \n",
    "        for _ in range(3):\n",
    "            modules.append(ResidualBlock(in_c, in_c))\n",
    "            modules.append(AttentionBlock(in_c))\n",
    "        \n",
    "        modules.append(nn.LeakyReLU())\n",
    "        \n",
    "        modules.append(nn.Sequential(\n",
    "                nn.Conv2d(in_c, embedding_dim, kernel_size=1, stride=1),\n",
    "                nn.LeakyReLU()\n",
    "            ))\n",
    "        modules.append(nn.Identity())\n",
    "        \n",
    "        self.encoder = nn.Sequential(*modules)\n",
    "        \n",
    "        self.vq_layer = VectorQuantizer(num_embeddings, embedding_dim, self.beta)\n",
    "        \n",
    "        # Build Decoder\n",
    "        modules = []\n",
    "        \n",
    "        modules.append(nn.Sequential(\n",
    "                nn.Conv2d(embedding_dim, in_c, kernel_size=1, stride=1),\n",
    "                nn.LeakyReLU()\n",
    "            ))\n",
    "        \n",
    "        for _ in range(3):\n",
    "            modules.append(ResidualBlock(in_c,  in_c))\n",
    "            modules.append(AttentionBlock(in_c))\n",
    "        \n",
    "        hidden_dims.reverse()\n",
    "        for i, hidden_dim in enumerate(hidden_dims):\n",
    "            modules.append(nn.Sequential(\n",
    "                nn.Conv2d(in_c, out_channels=hidden_dim, kernel_size=3, stride=1, padding=1),\n",
    "                nn.LeakyReLU(),\n",
    "                #AttentionBlock(hidden_dim),\n",
    "                nn.LeakyReLU(),\n",
    "                nn.ConvTranspose2d(hidden_dim, out_channels=hidden_dim, kernel_size=4, stride=2, padding=1),\n",
    "                nn.LeakyReLU(),\n",
    "            ))\n",
    "            # modules.append(AttentionBlock(hidden_dim))\n",
    "            in_c = hidden_dim\n",
    "        \n",
    "        modules.append(nn.Sequential(\n",
    "            nn.Conv2d(hidden_dims[1], out_channels=3, kernel_size=1, stride=1, padding=0),\n",
    "            nn.Tanh()\n",
    "        ))\n",
    "        \n",
    "        self.decoder = nn.Sequential(*modules)\n",
    "         \n",
    "    def encode(self, x):\n",
    "        x = self.encoder(x)\n",
    "        return x\n",
    "    \n",
    "    def decode(self, z):\n",
    "        z = self.decoder(z)\n",
    "        return z\n",
    "    \n",
    "    def forward(self, x):\n",
    "        encodings = self.encoder(x)\n",
    "        quantized_vec, vq_loss = self.vq_layer(encodings)\n",
    "        return [self.decoder(quantized_vec), x, vq_loss]\n",
    "    \n",
    "    def loss_f(self, *args, **kwargs):\n",
    "        recons = args[0]\n",
    "        inputs = args[1]\n",
    "        vq_loss = args[2]\n",
    "        \n",
    "        recons_loss = F.mse_loss(recons, inputs)\n",
    "        \n",
    "        loss = recons_loss + vq_loss\n",
    "        return loss, recons_loss, vq_loss\n",
    "    \n",
    "    def sample(self, num_samples, current_device):\n",
    "        raise Warning('VQVAE sampler is not implemented.')\n",
    "\n",
    "    def generate(self, x):\n",
    "        return self.forward(x)[0]\n"
   ]
  },
  {
   "cell_type": "code",
   "execution_count": null,
   "id": "be6907c0",
   "metadata": {
    "execution": {
     "iopub.execute_input": "2023-04-01T19:42:20.613977Z",
     "iopub.status.busy": "2023-04-01T19:42:20.612723Z",
     "iopub.status.idle": "2023-04-01T19:42:20.802505Z",
     "shell.execute_reply": "2023-04-01T19:42:20.801456Z",
     "shell.execute_reply.started": "2023-04-01T19:42:20.613925Z"
    }
   },
   "outputs": [],
   "source": [
    "# in_c, embedding_dim, num_embeddings, hidden_dims, beta=0.25, img_size=64,\n",
    "vqvae = VQVAE(3, 64, 256).to(device)\n",
    "# vqvae = torch.load('C:/Users/utkar/Desktop/ivp/models tried/day-7/vqvae_day7_epoch100.pt')"
   ]
  },
  {
   "cell_type": "code",
   "execution_count": null,
   "id": "d1cc05f4",
   "metadata": {
    "execution": {
     "iopub.execute_input": "2023-04-01T19:42:21.293228Z",
     "iopub.status.busy": "2023-04-01T19:42:21.292506Z",
     "iopub.status.idle": "2023-04-01T19:42:21.297804Z",
     "shell.execute_reply": "2023-04-01T19:42:21.296697Z",
     "shell.execute_reply.started": "2023-04-01T19:42:21.293189Z"
    }
   },
   "outputs": [],
   "source": [
    "x = torch.rand((1, 3, 64, 64)).to('cuda')\n",
    "print(x.shape)\n",
    "encode_vec = vqvae.encoder(x)\n",
    "encoded = vqvae.vq_layer(encode_vec)[0]\n",
    "vqvae.decoder(encoded).shape"
   ]
  },
  {
   "cell_type": "code",
   "execution_count": null,
   "id": "ab33846f",
   "metadata": {
    "execution": {
     "iopub.execute_input": "2023-04-01T19:42:21.725479Z",
     "iopub.status.busy": "2023-04-01T19:42:21.725092Z",
     "iopub.status.idle": "2023-04-01T19:42:22.889888Z",
     "shell.execute_reply": "2023-04-01T19:42:22.888594Z",
     "shell.execute_reply.started": "2023-04-01T19:42:21.725447Z"
    },
    "scrolled": false
   },
   "outputs": [],
   "source": [
    "pprint(torchinfo.summary(vqvae, (1, 3, 64, 64)))"
   ]
  },
  {
   "cell_type": "code",
   "execution_count": null,
   "id": "305d0cca",
   "metadata": {
    "execution": {
     "iopub.execute_input": "2023-04-01T20:05:42.279113Z",
     "iopub.status.busy": "2023-04-01T20:05:42.278726Z",
     "iopub.status.idle": "2023-04-01T20:05:42.285890Z",
     "shell.execute_reply": "2023-04-01T20:05:42.284063Z",
     "shell.execute_reply.started": "2023-04-01T20:05:42.279079Z"
    }
   },
   "outputs": [],
   "source": [
    "# \n",
    "\n",
    "num_training_updates = 15000\n",
    "p = r\"C:\\Users\\utkar\\Desktop\\ivp\\models tried\\day-8\\vqvae_day8_epoch35.pt\"\n",
    "vqvae = torch.load(p)\n",
    "# num_hiddens = 128\n",
    "# num_residual_hiddens = 32\n",
    "# num_residual_layers = 2\n",
    "# \n",
    "# embedding_dim = 64\n",
    "# num_embeddings = 512\n",
    "# commitment_cost = 0.25\n",
    "decay = 0.99\n",
    "\n",
    "vqvae.eval()\n",
    "\n",
    "learning_rate = 1e-4\n",
    "optimizer = optim.Adam(vqvae.parameters(), lr=learning_rate)\n",
    "criterion = nn.MSELoss()\n",
    "\n",
    "from torchmetrics import MeanSquaredError\n",
    "from torchmetrics import MeanAbsoluteError\n",
    "from torchmetrics import StructuralSimilarityIndexMeasure\n",
    "import torch\n",
    "\n",
    "def mse(img1, img2):\n",
    "    target = img1\n",
    "    preds = img2\n",
    "    mean_squared_error = MeanSquaredError()\n",
    "    mean_s = mean_squared_error(preds, target)\n",
    "    mean_absolute_error = MeanAbsoluteError()\n",
    "    mean_abs = mean_absolute_error(preds, target)\n",
    "    return mean_s, mean_abs\n",
    "\n",
    "\n",
    "from torchmetrics import StructuralSimilarityIndexMeasure\n",
    "import torch\n",
    "def ssim(img1, img2):\n",
    "    target = img1\n",
    "    preds = img2\n",
    "    ssim = StructuralSimilarityIndexMeasure(data_range=1.0)\n",
    "    return ssim(preds, target)\n",
    "    \n",
    "def display_func():\n",
    "    with torch.no_grad():\n",
    "        n = 10001\n",
    "        img = torch.unsqueeze(train_loader.dataset[n][0], 0).to('cuda')\n",
    "        out = vqvae(img)[0]\n",
    "        \n",
    "        print(mse(img.cpu(), out.cpu()))\n",
    "        print(ssim(img.cpu(), out.cpu()))\n",
    "        pic = np.transpose(np.concatenate((img.cpu(), out.cpu()), 3)[0], (1, 2, 0))\n",
    "        plt.imshow(pic)\n",
    "        plt.show()\n",
    "\n",
    "display_func()"
   ]
  },
  {
   "cell_type": "code",
   "execution_count": null,
   "id": "56ed58b4",
   "metadata": {
    "execution": {
     "iopub.execute_input": "2023-04-01T20:05:43.076261Z",
     "iopub.status.busy": "2023-04-01T20:05:43.075524Z",
     "iopub.status.idle": "2023-04-01T20:05:43.088383Z",
     "shell.execute_reply": "2023-04-01T20:05:43.087337Z",
     "shell.execute_reply.started": "2023-04-01T20:05:43.076221Z"
    }
   },
   "outputs": [],
   "source": [
    "from tqdm import tqdm\n",
    "\n",
    "def train_vqvae(model, train_loader, optimizer, criterion, device, epochs=10):\n",
    "    model.train()\n",
    "    \n",
    "    train_loss = []\n",
    "    recon_loss = []\n",
    "    vq_loss = []\n",
    "    \n",
    "    for epoch in range(epochs):\n",
    "        epoch_train_loss = 0\n",
    "        epoch_recon_loss = 0\n",
    "        epoch_vq_loss = 0\n",
    "        \n",
    "        progress_bar = tqdm(train_loader, desc=f\"Epoch {epoch+1}/{epochs}\")\n",
    "        for batch_idx, (data, _) in enumerate(progress_bar):\n",
    "            data = data.to(device)\n",
    "\n",
    "            optimizer.zero_grad()\n",
    "\n",
    "            outputs = model(data)\n",
    "            loss, recon_loss_batch, vq_loss_batch = model.loss_f(*outputs)\n",
    "\n",
    "            loss.backward()\n",
    "            optimizer.step()\n",
    "\n",
    "            epoch_train_loss += loss.item()\n",
    "            epoch_recon_loss += recon_loss_batch.item()\n",
    "            epoch_vq_loss += vq_loss_batch.item()\n",
    "\n",
    "            progress_bar.set_postfix({\n",
    "                \"Train Loss\": epoch_train_loss / (batch_idx + 1),\n",
    "                \"Recon Loss\": epoch_recon_loss / (batch_idx + 1),\n",
    "                \"VQ Loss\": epoch_vq_loss / (batch_idx + 1),\n",
    "            })\n",
    "            \n",
    "        train_loss.append(epoch_train_loss / len(train_loader))\n",
    "        recon_loss.append(epoch_recon_loss / len(train_loader))\n",
    "        vq_loss.append(epoch_vq_loss / len(train_loader))\n",
    "        \n",
    "        print(f\"Epoch {epoch+1}: Train Loss: {train_loss[-1]:.4f}, Recon Loss: {recon_loss[-1]:.4f}, VQ Loss: {vq_loss[-1]:.4f}\")\n",
    "        display_func()\n",
    "        if epoch % 5 == 0:\n",
    "            PATH = r'C:/Users/utkar/Desktop/ivp/models tried/day-8/vqvae_day8_epoch' + str(epoch) + '.pt'\n",
    "            torch.save(vqvae, PATH)\n",
    "    return train_loss, recon_loss, vq_loss\n"
   ]
  },
  {
   "cell_type": "code",
   "execution_count": null,
   "id": "edca801a",
   "metadata": {
    "execution": {
     "iopub.execute_input": "2023-04-01T20:05:47.107895Z",
     "iopub.status.busy": "2023-04-01T20:05:47.107499Z",
     "iopub.status.idle": "2023-04-01T20:11:47.803811Z",
     "shell.execute_reply": "2023-04-01T20:11:47.802064Z",
     "shell.execute_reply.started": "2023-04-01T20:05:47.107861Z"
    },
    "scrolled": true
   },
   "outputs": [],
   "source": [
    "train_vqvae(vqvae, train_loader, optimizer, criterion, device, epochs=40)"
   ]
  },
  {
   "cell_type": "code",
   "execution_count": null,
   "id": "d984e959",
   "metadata": {
    "execution": {
     "iopub.execute_input": "2023-04-01T20:28:39.199375Z",
     "iopub.status.busy": "2023-04-01T20:28:39.198992Z",
     "iopub.status.idle": "2023-04-01T20:28:39.300151Z",
     "shell.execute_reply": "2023-04-01T20:28:39.299009Z",
     "shell.execute_reply.started": "2023-04-01T20:28:39.199344Z"
    }
   },
   "outputs": [],
   "source": [
    "PATH = r'C:/Users/utkar/Desktop/ivp/models tried/day-8/vqvae_day8.pt'\n",
    "torch.save(vqvae, PATH)"
   ]
  },
  {
   "cell_type": "code",
   "execution_count": null,
   "id": "a93534e2",
   "metadata": {},
   "outputs": [],
   "source": [
    "def display_func1():\n",
    "    with torch.no_grad():\n",
    "        n = np.random.randint(0, 50000)\n",
    "        img = torch.unsqueeze(train_loader.dataset[n][0], 0).to('cuda')\n",
    "        out = vqvae(img)[0]\n",
    "        img_d = img - out\n",
    "        pic = np.transpose(np.concatenate((img.cpu(), out.cpu(), img_d.cpu()*4), 3)[0], (1, 2, 0))\n",
    "        plt.figure(figsize=(15, 5))\n",
    "        plt.imshow(pic)\n",
    "        plt.show()\n",
    "display_func1()"
   ]
  },
  {
   "cell_type": "code",
   "execution_count": null,
   "id": "8ebe2909",
   "metadata": {},
   "outputs": [],
   "source": [
    "def display_func():\n",
    "    with torch.no_grad():\n",
    "        n = np.random.randint(0, 50000)\n",
    "        print(n)\n",
    "        img = torch.unsqueeze(train_loader.dataset[n][0], 0).to('cuda')\n",
    "        out = vqvae(img)[0]\n",
    "        pic = np.transpose(np.concatenate((img.cpu(), out.cpu()), 3)[0], (1, 2, 0))\n",
    "        plt.imshow(pic)\n",
    "        plt.show()"
   ]
  },
  {
   "cell_type": "code",
   "execution_count": null,
   "id": "7ef8585c",
   "metadata": {},
   "outputs": [],
   "source": []
  }
 ],
 "metadata": {
  "kernelspec": {
   "display_name": "Python 3 (ipykernel)",
   "language": "python",
   "name": "python3"
  },
  "language_info": {
   "codemirror_mode": {
    "name": "ipython",
    "version": 3
   },
   "file_extension": ".py",
   "mimetype": "text/x-python",
   "name": "python",
   "nbconvert_exporter": "python",
   "pygments_lexer": "ipython3",
   "version": "3.8.5"
  }
 },
 "nbformat": 4,
 "nbformat_minor": 5
}
